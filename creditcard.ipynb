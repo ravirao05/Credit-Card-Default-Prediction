{
 "cells": [
  {
   "cell_type": "code",
   "execution_count": 1,
   "id": "5a070c41-e3ee-4210-8a3c-e1f0f22f131e",
   "metadata": {},
   "outputs": [],
   "source": [
    "import numpy as np\n",
    "import pandas as pd\n",
    "import matplotlib.pyplot as plt\n",
    "import seaborn as sns"
   ]
  },
  {
   "cell_type": "code",
   "execution_count": 2,
   "id": "5af20b05-8cfe-48a9-aa79-cd1e6a67328c",
   "metadata": {},
   "outputs": [],
   "source": [
    "df = pd.read_csv('train_dataset_final1.csv')\n",
    "valf = pd.read_csv('validate_dataset_final.csv')"
   ]
  },
  {
   "cell_type": "code",
   "execution_count": 3,
   "id": "5b2ce68d-7509-4e63-94c2-14a7d37fc674",
   "metadata": {},
   "outputs": [
    {
     "data": {
      "text/html": [
       "<div>\n",
       "<style scoped>\n",
       "    .dataframe tbody tr th:only-of-type {\n",
       "        vertical-align: middle;\n",
       "    }\n",
       "\n",
       "    .dataframe tbody tr th {\n",
       "        vertical-align: top;\n",
       "    }\n",
       "\n",
       "    .dataframe thead th {\n",
       "        text-align: right;\n",
       "    }\n",
       "</style>\n",
       "<table border=\"1\" class=\"dataframe\">\n",
       "  <thead>\n",
       "    <tr style=\"text-align: right;\">\n",
       "      <th></th>\n",
       "      <th>Customer_ID</th>\n",
       "      <th>marriage</th>\n",
       "      <th>sex</th>\n",
       "      <th>education</th>\n",
       "      <th>LIMIT_BAL</th>\n",
       "      <th>age</th>\n",
       "      <th>pay_0</th>\n",
       "      <th>pay_2</th>\n",
       "      <th>pay_3</th>\n",
       "      <th>pay_4</th>\n",
       "      <th>...</th>\n",
       "      <th>Bill_amt6</th>\n",
       "      <th>pay_amt1</th>\n",
       "      <th>pay_amt2</th>\n",
       "      <th>pay_amt3</th>\n",
       "      <th>pay_amt4</th>\n",
       "      <th>pay_amt5</th>\n",
       "      <th>pay_amt6</th>\n",
       "      <th>AVG_Bill_amt</th>\n",
       "      <th>PAY_TO_BILL_ratio</th>\n",
       "      <th>next_month_default</th>\n",
       "    </tr>\n",
       "  </thead>\n",
       "  <tbody>\n",
       "    <tr>\n",
       "      <th>0</th>\n",
       "      <td>5017</td>\n",
       "      <td>2</td>\n",
       "      <td>0</td>\n",
       "      <td>2</td>\n",
       "      <td>60000</td>\n",
       "      <td>25.0</td>\n",
       "      <td>2</td>\n",
       "      <td>2</td>\n",
       "      <td>2</td>\n",
       "      <td>0</td>\n",
       "      <td>...</td>\n",
       "      <td>20750.63</td>\n",
       "      <td>2000.21</td>\n",
       "      <td>0.00</td>\n",
       "      <td>1134.85</td>\n",
       "      <td>1821.78</td>\n",
       "      <td>1500.03</td>\n",
       "      <td>1500.24</td>\n",
       "      <td>41511.50</td>\n",
       "      <td>0.03</td>\n",
       "      <td>0</td>\n",
       "    </tr>\n",
       "    <tr>\n",
       "      <th>1</th>\n",
       "      <td>5018</td>\n",
       "      <td>2</td>\n",
       "      <td>1</td>\n",
       "      <td>1</td>\n",
       "      <td>290000</td>\n",
       "      <td>24.0</td>\n",
       "      <td>0</td>\n",
       "      <td>0</td>\n",
       "      <td>-2</td>\n",
       "      <td>-2</td>\n",
       "      <td>...</td>\n",
       "      <td>1350.30</td>\n",
       "      <td>0.00</td>\n",
       "      <td>0.17</td>\n",
       "      <td>0.00</td>\n",
       "      <td>2700.10</td>\n",
       "      <td>0.00</td>\n",
       "      <td>1349.72</td>\n",
       "      <td>2534.50</td>\n",
       "      <td>0.27</td>\n",
       "      <td>0</td>\n",
       "    </tr>\n",
       "    <tr>\n",
       "      <th>2</th>\n",
       "      <td>5019</td>\n",
       "      <td>1</td>\n",
       "      <td>0</td>\n",
       "      <td>2</td>\n",
       "      <td>180000</td>\n",
       "      <td>63.0</td>\n",
       "      <td>0</td>\n",
       "      <td>0</td>\n",
       "      <td>0</td>\n",
       "      <td>0</td>\n",
       "      <td>...</td>\n",
       "      <td>52991.51</td>\n",
       "      <td>2086.94</td>\n",
       "      <td>2199.99</td>\n",
       "      <td>1845.66</td>\n",
       "      <td>2000.35</td>\n",
       "      <td>1923.00</td>\n",
       "      <td>1999.78</td>\n",
       "      <td>50422.00</td>\n",
       "      <td>0.04</td>\n",
       "      <td>0</td>\n",
       "    </tr>\n",
       "    <tr>\n",
       "      <th>3</th>\n",
       "      <td>5020</td>\n",
       "      <td>1</td>\n",
       "      <td>1</td>\n",
       "      <td>2</td>\n",
       "      <td>210000</td>\n",
       "      <td>43.0</td>\n",
       "      <td>0</td>\n",
       "      <td>0</td>\n",
       "      <td>0</td>\n",
       "      <td>0</td>\n",
       "      <td>...</td>\n",
       "      <td>76945.47</td>\n",
       "      <td>3348.07</td>\n",
       "      <td>3380.91</td>\n",
       "      <td>3400.45</td>\n",
       "      <td>2683.97</td>\n",
       "      <td>2744.00</td>\n",
       "      <td>2892.10</td>\n",
       "      <td>86229.50</td>\n",
       "      <td>0.04</td>\n",
       "      <td>0</td>\n",
       "    </tr>\n",
       "    <tr>\n",
       "      <th>4</th>\n",
       "      <td>5021</td>\n",
       "      <td>2</td>\n",
       "      <td>0</td>\n",
       "      <td>1</td>\n",
       "      <td>280000</td>\n",
       "      <td>32.0</td>\n",
       "      <td>-2</td>\n",
       "      <td>-2</td>\n",
       "      <td>-2</td>\n",
       "      <td>-2</td>\n",
       "      <td>...</td>\n",
       "      <td>1.35</td>\n",
       "      <td>999.78</td>\n",
       "      <td>3186.27</td>\n",
       "      <td>45027.78</td>\n",
       "      <td>2100.09</td>\n",
       "      <td>0.01</td>\n",
       "      <td>0.27</td>\n",
       "      <td>11814.33</td>\n",
       "      <td>0.72</td>\n",
       "      <td>0</td>\n",
       "    </tr>\n",
       "    <tr>\n",
       "      <th>...</th>\n",
       "      <td>...</td>\n",
       "      <td>...</td>\n",
       "      <td>...</td>\n",
       "      <td>...</td>\n",
       "      <td>...</td>\n",
       "      <td>...</td>\n",
       "      <td>...</td>\n",
       "      <td>...</td>\n",
       "      <td>...</td>\n",
       "      <td>...</td>\n",
       "      <td>...</td>\n",
       "      <td>...</td>\n",
       "      <td>...</td>\n",
       "      <td>...</td>\n",
       "      <td>...</td>\n",
       "      <td>...</td>\n",
       "      <td>...</td>\n",
       "      <td>...</td>\n",
       "      <td>...</td>\n",
       "      <td>...</td>\n",
       "      <td>...</td>\n",
       "    </tr>\n",
       "    <tr>\n",
       "      <th>25242</th>\n",
       "      <td>30259</td>\n",
       "      <td>1</td>\n",
       "      <td>1</td>\n",
       "      <td>2</td>\n",
       "      <td>90000</td>\n",
       "      <td>33.0</td>\n",
       "      <td>0</td>\n",
       "      <td>0</td>\n",
       "      <td>0</td>\n",
       "      <td>0</td>\n",
       "      <td>...</td>\n",
       "      <td>90042.87</td>\n",
       "      <td>2800.18</td>\n",
       "      <td>3999.97</td>\n",
       "      <td>8000.09</td>\n",
       "      <td>5347.85</td>\n",
       "      <td>3699.98</td>\n",
       "      <td>3128.06</td>\n",
       "      <td>82312.50</td>\n",
       "      <td>0.05</td>\n",
       "      <td>0</td>\n",
       "    </tr>\n",
       "    <tr>\n",
       "      <th>25243</th>\n",
       "      <td>30260</td>\n",
       "      <td>1</td>\n",
       "      <td>0</td>\n",
       "      <td>2</td>\n",
       "      <td>60000</td>\n",
       "      <td>49.0</td>\n",
       "      <td>0</td>\n",
       "      <td>0</td>\n",
       "      <td>0</td>\n",
       "      <td>0</td>\n",
       "      <td>...</td>\n",
       "      <td>19204.07</td>\n",
       "      <td>22000.17</td>\n",
       "      <td>2187.56</td>\n",
       "      <td>2501.13</td>\n",
       "      <td>2512.09</td>\n",
       "      <td>4004.89</td>\n",
       "      <td>2604.22</td>\n",
       "      <td>41371.67</td>\n",
       "      <td>0.14</td>\n",
       "      <td>1</td>\n",
       "    </tr>\n",
       "    <tr>\n",
       "      <th>25244</th>\n",
       "      <td>30261</td>\n",
       "      <td>2</td>\n",
       "      <td>0</td>\n",
       "      <td>1</td>\n",
       "      <td>120000</td>\n",
       "      <td>31.0</td>\n",
       "      <td>-1</td>\n",
       "      <td>-1</td>\n",
       "      <td>-1</td>\n",
       "      <td>-1</td>\n",
       "      <td>...</td>\n",
       "      <td>9834.64</td>\n",
       "      <td>1315.83</td>\n",
       "      <td>1315.60</td>\n",
       "      <td>533.08</td>\n",
       "      <td>4116.08</td>\n",
       "      <td>9834.10</td>\n",
       "      <td>7100.12</td>\n",
       "      <td>3071.83</td>\n",
       "      <td>1.31</td>\n",
       "      <td>1</td>\n",
       "    </tr>\n",
       "    <tr>\n",
       "      <th>25245</th>\n",
       "      <td>30262</td>\n",
       "      <td>1</td>\n",
       "      <td>1</td>\n",
       "      <td>4</td>\n",
       "      <td>390000</td>\n",
       "      <td>40.0</td>\n",
       "      <td>0</td>\n",
       "      <td>0</td>\n",
       "      <td>0</td>\n",
       "      <td>0</td>\n",
       "      <td>...</td>\n",
       "      <td>199013.32</td>\n",
       "      <td>7636.03</td>\n",
       "      <td>5652.86</td>\n",
       "      <td>5544.67</td>\n",
       "      <td>5532.37</td>\n",
       "      <td>5859.09</td>\n",
       "      <td>6818.14</td>\n",
       "      <td>197278.83</td>\n",
       "      <td>0.03</td>\n",
       "      <td>0</td>\n",
       "    </tr>\n",
       "    <tr>\n",
       "      <th>25246</th>\n",
       "      <td>30263</td>\n",
       "      <td>1</td>\n",
       "      <td>1</td>\n",
       "      <td>2</td>\n",
       "      <td>160000</td>\n",
       "      <td>58.0</td>\n",
       "      <td>-1</td>\n",
       "      <td>-1</td>\n",
       "      <td>-1</td>\n",
       "      <td>-1</td>\n",
       "      <td>...</td>\n",
       "      <td>1443.08</td>\n",
       "      <td>1442.81</td>\n",
       "      <td>1443.06</td>\n",
       "      <td>1442.97</td>\n",
       "      <td>1443.31</td>\n",
       "      <td>1442.72</td>\n",
       "      <td>1443.00</td>\n",
       "      <td>1443.00</td>\n",
       "      <td>1.00</td>\n",
       "      <td>0</td>\n",
       "    </tr>\n",
       "  </tbody>\n",
       "</table>\n",
       "<p>25247 rows × 27 columns</p>\n",
       "</div>"
      ],
      "text/plain": [
       "       Customer_ID  marriage  sex  education  LIMIT_BAL   age  pay_0  pay_2  \\\n",
       "0             5017         2    0          2      60000  25.0      2      2   \n",
       "1             5018         2    1          1     290000  24.0      0      0   \n",
       "2             5019         1    0          2     180000  63.0      0      0   \n",
       "3             5020         1    1          2     210000  43.0      0      0   \n",
       "4             5021         2    0          1     280000  32.0     -2     -2   \n",
       "...            ...       ...  ...        ...        ...   ...    ...    ...   \n",
       "25242        30259         1    1          2      90000  33.0      0      0   \n",
       "25243        30260         1    0          2      60000  49.0      0      0   \n",
       "25244        30261         2    0          1     120000  31.0     -1     -1   \n",
       "25245        30262         1    1          4     390000  40.0      0      0   \n",
       "25246        30263         1    1          2     160000  58.0     -1     -1   \n",
       "\n",
       "       pay_3  pay_4  ...  Bill_amt6  pay_amt1  pay_amt2  pay_amt3  pay_amt4  \\\n",
       "0          2      0  ...   20750.63   2000.21      0.00   1134.85   1821.78   \n",
       "1         -2     -2  ...    1350.30      0.00      0.17      0.00   2700.10   \n",
       "2          0      0  ...   52991.51   2086.94   2199.99   1845.66   2000.35   \n",
       "3          0      0  ...   76945.47   3348.07   3380.91   3400.45   2683.97   \n",
       "4         -2     -2  ...       1.35    999.78   3186.27  45027.78   2100.09   \n",
       "...      ...    ...  ...        ...       ...       ...       ...       ...   \n",
       "25242      0      0  ...   90042.87   2800.18   3999.97   8000.09   5347.85   \n",
       "25243      0      0  ...   19204.07  22000.17   2187.56   2501.13   2512.09   \n",
       "25244     -1     -1  ...    9834.64   1315.83   1315.60    533.08   4116.08   \n",
       "25245      0      0  ...  199013.32   7636.03   5652.86   5544.67   5532.37   \n",
       "25246     -1     -1  ...    1443.08   1442.81   1443.06   1442.97   1443.31   \n",
       "\n",
       "       pay_amt5  pay_amt6  AVG_Bill_amt  PAY_TO_BILL_ratio  next_month_default  \n",
       "0       1500.03   1500.24      41511.50               0.03                   0  \n",
       "1          0.00   1349.72       2534.50               0.27                   0  \n",
       "2       1923.00   1999.78      50422.00               0.04                   0  \n",
       "3       2744.00   2892.10      86229.50               0.04                   0  \n",
       "4          0.01      0.27      11814.33               0.72                   0  \n",
       "...         ...       ...           ...                ...                 ...  \n",
       "25242   3699.98   3128.06      82312.50               0.05                   0  \n",
       "25243   4004.89   2604.22      41371.67               0.14                   1  \n",
       "25244   9834.10   7100.12       3071.83               1.31                   1  \n",
       "25245   5859.09   6818.14     197278.83               0.03                   0  \n",
       "25246   1442.72   1443.00       1443.00               1.00                   0  \n",
       "\n",
       "[25247 rows x 27 columns]"
      ]
     },
     "execution_count": 3,
     "metadata": {},
     "output_type": "execute_result"
    }
   ],
   "source": [
    "df"
   ]
  },
  {
   "cell_type": "code",
   "execution_count": 4,
   "id": "fc78e1b8-2a3b-4a99-b47d-3c520793f48a",
   "metadata": {},
   "outputs": [],
   "source": [
    "df.drop('Customer_ID',axis=1,inplace=True)"
   ]
  },
  {
   "cell_type": "code",
   "execution_count": 5,
   "id": "946a2ef1-e8d7-4b1b-87a6-47815ab83fc5",
   "metadata": {},
   "outputs": [
    {
     "data": {
      "text/plain": [
       "(25247, 26)"
      ]
     },
     "execution_count": 5,
     "metadata": {},
     "output_type": "execute_result"
    }
   ],
   "source": [
    "df.shape"
   ]
  },
  {
   "cell_type": "code",
   "execution_count": 6,
   "id": "131ff4b8-f491-4e62-9672-9f2757364bba",
   "metadata": {},
   "outputs": [
    {
     "name": "stdout",
     "output_type": "stream",
     "text": [
      "<class 'pandas.core.frame.DataFrame'>\n",
      "RangeIndex: 25247 entries, 0 to 25246\n",
      "Data columns (total 26 columns):\n",
      " #   Column              Non-Null Count  Dtype  \n",
      "---  ------              --------------  -----  \n",
      " 0   marriage            25247 non-null  int64  \n",
      " 1   sex                 25247 non-null  int64  \n",
      " 2   education           25247 non-null  int64  \n",
      " 3   LIMIT_BAL           25247 non-null  int64  \n",
      " 4   age                 25121 non-null  float64\n",
      " 5   pay_0               25247 non-null  int64  \n",
      " 6   pay_2               25247 non-null  int64  \n",
      " 7   pay_3               25247 non-null  int64  \n",
      " 8   pay_4               25247 non-null  int64  \n",
      " 9   pay_5               25247 non-null  int64  \n",
      " 10  pay_6               25247 non-null  int64  \n",
      " 11  Bill_amt1           25247 non-null  float64\n",
      " 12  Bill_amt2           25247 non-null  float64\n",
      " 13  Bill_amt3           25247 non-null  float64\n",
      " 14  Bill_amt4           25247 non-null  float64\n",
      " 15  Bill_amt5           25247 non-null  float64\n",
      " 16  Bill_amt6           25247 non-null  float64\n",
      " 17  pay_amt1            25247 non-null  float64\n",
      " 18  pay_amt2            25247 non-null  float64\n",
      " 19  pay_amt3            25247 non-null  float64\n",
      " 20  pay_amt4            25247 non-null  float64\n",
      " 21  pay_amt5            25247 non-null  float64\n",
      " 22  pay_amt6            25247 non-null  float64\n",
      " 23  AVG_Bill_amt        25247 non-null  float64\n",
      " 24  PAY_TO_BILL_ratio   25247 non-null  float64\n",
      " 25  next_month_default  25247 non-null  int64  \n",
      "dtypes: float64(15), int64(11)\n",
      "memory usage: 5.0 MB\n"
     ]
    }
   ],
   "source": [
    "df.info()"
   ]
  },
  {
   "cell_type": "code",
   "execution_count": 7,
   "id": "62054b5c-88e4-40c5-8a70-4bbc795b86f7",
   "metadata": {},
   "outputs": [],
   "source": [
    "df.rename(columns={\"pay_0\":\"pay_1\"},inplace=True)"
   ]
  },
  {
   "cell_type": "code",
   "execution_count": 8,
   "id": "e5c041e1-c4ef-46d4-a61d-fb0b42df7e02",
   "metadata": {},
   "outputs": [
    {
     "name": "stdout",
     "output_type": "stream",
     "text": [
      "<class 'pandas.core.frame.DataFrame'>\n",
      "RangeIndex: 25247 entries, 0 to 25246\n",
      "Data columns (total 26 columns):\n",
      " #   Column              Non-Null Count  Dtype  \n",
      "---  ------              --------------  -----  \n",
      " 0   marriage            25247 non-null  int64  \n",
      " 1   sex                 25247 non-null  int64  \n",
      " 2   education           25247 non-null  int64  \n",
      " 3   LIMIT_BAL           25247 non-null  int64  \n",
      " 4   age                 25121 non-null  float64\n",
      " 5   pay_1               25247 non-null  int64  \n",
      " 6   pay_2               25247 non-null  int64  \n",
      " 7   pay_3               25247 non-null  int64  \n",
      " 8   pay_4               25247 non-null  int64  \n",
      " 9   pay_5               25247 non-null  int64  \n",
      " 10  pay_6               25247 non-null  int64  \n",
      " 11  Bill_amt1           25247 non-null  float64\n",
      " 12  Bill_amt2           25247 non-null  float64\n",
      " 13  Bill_amt3           25247 non-null  float64\n",
      " 14  Bill_amt4           25247 non-null  float64\n",
      " 15  Bill_amt5           25247 non-null  float64\n",
      " 16  Bill_amt6           25247 non-null  float64\n",
      " 17  pay_amt1            25247 non-null  float64\n",
      " 18  pay_amt2            25247 non-null  float64\n",
      " 19  pay_amt3            25247 non-null  float64\n",
      " 20  pay_amt4            25247 non-null  float64\n",
      " 21  pay_amt5            25247 non-null  float64\n",
      " 22  pay_amt6            25247 non-null  float64\n",
      " 23  AVG_Bill_amt        25247 non-null  float64\n",
      " 24  PAY_TO_BILL_ratio   25247 non-null  float64\n",
      " 25  next_month_default  25247 non-null  int64  \n",
      "dtypes: float64(15), int64(11)\n",
      "memory usage: 5.0 MB\n"
     ]
    }
   ],
   "source": [
    "df.info()"
   ]
  },
  {
   "cell_type": "code",
   "execution_count": 9,
   "id": "21e9a29e-a7fb-4361-9181-0e87c4999ef2",
   "metadata": {},
   "outputs": [
    {
     "data": {
      "text/plain": [
       "marriage                0\n",
       "sex                     0\n",
       "education               0\n",
       "LIMIT_BAL               0\n",
       "age                   126\n",
       "pay_1                   0\n",
       "pay_2                   0\n",
       "pay_3                   0\n",
       "pay_4                   0\n",
       "pay_5                   0\n",
       "pay_6                   0\n",
       "Bill_amt1               0\n",
       "Bill_amt2               0\n",
       "Bill_amt3               0\n",
       "Bill_amt4               0\n",
       "Bill_amt5               0\n",
       "Bill_amt6               0\n",
       "pay_amt1                0\n",
       "pay_amt2                0\n",
       "pay_amt3                0\n",
       "pay_amt4                0\n",
       "pay_amt5                0\n",
       "pay_amt6                0\n",
       "AVG_Bill_amt            0\n",
       "PAY_TO_BILL_ratio       0\n",
       "next_month_default      0\n",
       "dtype: int64"
      ]
     },
     "execution_count": 9,
     "metadata": {},
     "output_type": "execute_result"
    }
   ],
   "source": [
    "df.isnull().sum(axis=0)"
   ]
  },
  {
   "cell_type": "code",
   "execution_count": 10,
   "id": "7d1ccc5a-fe62-451f-938f-a75508728515",
   "metadata": {},
   "outputs": [
    {
     "data": {
      "text/html": [
       "<div>\n",
       "<style scoped>\n",
       "    .dataframe tbody tr th:only-of-type {\n",
       "        vertical-align: middle;\n",
       "    }\n",
       "\n",
       "    .dataframe tbody tr th {\n",
       "        vertical-align: top;\n",
       "    }\n",
       "\n",
       "    .dataframe thead th {\n",
       "        text-align: right;\n",
       "    }\n",
       "</style>\n",
       "<table border=\"1\" class=\"dataframe\">\n",
       "  <thead>\n",
       "    <tr style=\"text-align: right;\">\n",
       "      <th></th>\n",
       "      <th>marriage</th>\n",
       "      <th>sex</th>\n",
       "      <th>education</th>\n",
       "      <th>LIMIT_BAL</th>\n",
       "      <th>age</th>\n",
       "      <th>pay_1</th>\n",
       "      <th>pay_2</th>\n",
       "      <th>pay_3</th>\n",
       "      <th>pay_4</th>\n",
       "      <th>pay_5</th>\n",
       "      <th>...</th>\n",
       "      <th>Bill_amt6</th>\n",
       "      <th>pay_amt1</th>\n",
       "      <th>pay_amt2</th>\n",
       "      <th>pay_amt3</th>\n",
       "      <th>pay_amt4</th>\n",
       "      <th>pay_amt5</th>\n",
       "      <th>pay_amt6</th>\n",
       "      <th>AVG_Bill_amt</th>\n",
       "      <th>PAY_TO_BILL_ratio</th>\n",
       "      <th>next_month_default</th>\n",
       "    </tr>\n",
       "  </thead>\n",
       "  <tbody>\n",
       "    <tr>\n",
       "      <th>count</th>\n",
       "      <td>25247.000000</td>\n",
       "      <td>25247.000000</td>\n",
       "      <td>25247.000000</td>\n",
       "      <td>25247.000000</td>\n",
       "      <td>25121.000000</td>\n",
       "      <td>25247.000000</td>\n",
       "      <td>25247.000000</td>\n",
       "      <td>25247.000000</td>\n",
       "      <td>25247.000000</td>\n",
       "      <td>25247.000000</td>\n",
       "      <td>...</td>\n",
       "      <td>25247.000000</td>\n",
       "      <td>25247.000000</td>\n",
       "      <td>2.524700e+04</td>\n",
       "      <td>25247.000000</td>\n",
       "      <td>25247.000000</td>\n",
       "      <td>25247.000000</td>\n",
       "      <td>25247.000000</td>\n",
       "      <td>25247.000000</td>\n",
       "      <td>25247.000000</td>\n",
       "      <td>25247.000000</td>\n",
       "    </tr>\n",
       "    <tr>\n",
       "      <th>mean</th>\n",
       "      <td>1.551907</td>\n",
       "      <td>0.604111</td>\n",
       "      <td>1.852101</td>\n",
       "      <td>168342.060443</td>\n",
       "      <td>35.438199</td>\n",
       "      <td>-0.042857</td>\n",
       "      <td>-0.159544</td>\n",
       "      <td>-0.190359</td>\n",
       "      <td>-0.241415</td>\n",
       "      <td>-0.282568</td>\n",
       "      <td>...</td>\n",
       "      <td>38806.221029</td>\n",
       "      <td>5718.624966</td>\n",
       "      <td>6.047352e+03</td>\n",
       "      <td>5288.910651</td>\n",
       "      <td>4865.960834</td>\n",
       "      <td>4906.766828</td>\n",
       "      <td>5270.499287</td>\n",
       "      <td>44859.647485</td>\n",
       "      <td>0.362962</td>\n",
       "      <td>0.190399</td>\n",
       "    </tr>\n",
       "    <tr>\n",
       "      <th>std</th>\n",
       "      <td>0.522629</td>\n",
       "      <td>0.489050</td>\n",
       "      <td>0.797379</td>\n",
       "      <td>129892.784807</td>\n",
       "      <td>9.174998</td>\n",
       "      <td>1.099315</td>\n",
       "      <td>1.173990</td>\n",
       "      <td>1.172636</td>\n",
       "      <td>1.146753</td>\n",
       "      <td>1.114213</td>\n",
       "      <td>...</td>\n",
       "      <td>59182.792531</td>\n",
       "      <td>16806.842125</td>\n",
       "      <td>2.400962e+04</td>\n",
       "      <td>17851.879609</td>\n",
       "      <td>15979.116544</td>\n",
       "      <td>15860.726852</td>\n",
       "      <td>17960.816915</td>\n",
       "      <td>62819.226119</td>\n",
       "      <td>5.047206</td>\n",
       "      <td>0.392624</td>\n",
       "    </tr>\n",
       "    <tr>\n",
       "      <th>min</th>\n",
       "      <td>0.000000</td>\n",
       "      <td>0.000000</td>\n",
       "      <td>0.000000</td>\n",
       "      <td>10000.000000</td>\n",
       "      <td>21.000000</td>\n",
       "      <td>-2.000000</td>\n",
       "      <td>-2.000000</td>\n",
       "      <td>-2.000000</td>\n",
       "      <td>-2.000000</td>\n",
       "      <td>-2.000000</td>\n",
       "      <td>...</td>\n",
       "      <td>0.000000</td>\n",
       "      <td>0.000000</td>\n",
       "      <td>0.000000e+00</td>\n",
       "      <td>0.000000</td>\n",
       "      <td>0.000000</td>\n",
       "      <td>0.000000</td>\n",
       "      <td>0.000000</td>\n",
       "      <td>-56043.170000</td>\n",
       "      <td>-546.930000</td>\n",
       "      <td>0.000000</td>\n",
       "    </tr>\n",
       "    <tr>\n",
       "      <th>25%</th>\n",
       "      <td>1.000000</td>\n",
       "      <td>0.000000</td>\n",
       "      <td>1.000000</td>\n",
       "      <td>50000.000000</td>\n",
       "      <td>28.000000</td>\n",
       "      <td>-1.000000</td>\n",
       "      <td>-1.000000</td>\n",
       "      <td>-1.000000</td>\n",
       "      <td>-1.000000</td>\n",
       "      <td>-1.000000</td>\n",
       "      <td>...</td>\n",
       "      <td>1241.710000</td>\n",
       "      <td>999.985000</td>\n",
       "      <td>9.219100e+02</td>\n",
       "      <td>399.990000</td>\n",
       "      <td>300.150000</td>\n",
       "      <td>262.365000</td>\n",
       "      <td>130.070000</td>\n",
       "      <td>4858.670000</td>\n",
       "      <td>0.040000</td>\n",
       "      <td>0.000000</td>\n",
       "    </tr>\n",
       "    <tr>\n",
       "      <th>50%</th>\n",
       "      <td>2.000000</td>\n",
       "      <td>1.000000</td>\n",
       "      <td>2.000000</td>\n",
       "      <td>140000.000000</td>\n",
       "      <td>34.000000</td>\n",
       "      <td>0.000000</td>\n",
       "      <td>0.000000</td>\n",
       "      <td>0.000000</td>\n",
       "      <td>0.000000</td>\n",
       "      <td>0.000000</td>\n",
       "      <td>...</td>\n",
       "      <td>17102.580000</td>\n",
       "      <td>2145.020000</td>\n",
       "      <td>2.026830e+03</td>\n",
       "      <td>1844.300000</td>\n",
       "      <td>1500.100000</td>\n",
       "      <td>1513.790000</td>\n",
       "      <td>1500.040000</td>\n",
       "      <td>21102.830000</td>\n",
       "      <td>0.090000</td>\n",
       "      <td>0.000000</td>\n",
       "    </tr>\n",
       "    <tr>\n",
       "      <th>75%</th>\n",
       "      <td>2.000000</td>\n",
       "      <td>1.000000</td>\n",
       "      <td>2.000000</td>\n",
       "      <td>240000.000000</td>\n",
       "      <td>41.000000</td>\n",
       "      <td>0.000000</td>\n",
       "      <td>0.000000</td>\n",
       "      <td>0.000000</td>\n",
       "      <td>0.000000</td>\n",
       "      <td>0.000000</td>\n",
       "      <td>...</td>\n",
       "      <td>49245.195000</td>\n",
       "      <td>5031.150000</td>\n",
       "      <td>5.000190e+03</td>\n",
       "      <td>4600.640000</td>\n",
       "      <td>4014.990000</td>\n",
       "      <td>4099.890000</td>\n",
       "      <td>4018.780000</td>\n",
       "      <td>57136.580000</td>\n",
       "      <td>0.590000</td>\n",
       "      <td>0.000000</td>\n",
       "    </tr>\n",
       "    <tr>\n",
       "      <th>max</th>\n",
       "      <td>3.000000</td>\n",
       "      <td>1.000000</td>\n",
       "      <td>6.000000</td>\n",
       "      <td>1000000.000000</td>\n",
       "      <td>79.000000</td>\n",
       "      <td>8.000000</td>\n",
       "      <td>8.000000</td>\n",
       "      <td>8.000000</td>\n",
       "      <td>7.000000</td>\n",
       "      <td>7.000000</td>\n",
       "      <td>...</td>\n",
       "      <td>961663.620000</td>\n",
       "      <td>873551.980000</td>\n",
       "      <td>1.684259e+06</td>\n",
       "      <td>896040.150000</td>\n",
       "      <td>621000.080000</td>\n",
       "      <td>426529.180000</td>\n",
       "      <td>528666.150000</td>\n",
       "      <td>877313.830000</td>\n",
       "      <td>205.380000</td>\n",
       "      <td>1.000000</td>\n",
       "    </tr>\n",
       "  </tbody>\n",
       "</table>\n",
       "<p>8 rows × 26 columns</p>\n",
       "</div>"
      ],
      "text/plain": [
       "           marriage           sex     education       LIMIT_BAL           age  \\\n",
       "count  25247.000000  25247.000000  25247.000000    25247.000000  25121.000000   \n",
       "mean       1.551907      0.604111      1.852101   168342.060443     35.438199   \n",
       "std        0.522629      0.489050      0.797379   129892.784807      9.174998   \n",
       "min        0.000000      0.000000      0.000000    10000.000000     21.000000   \n",
       "25%        1.000000      0.000000      1.000000    50000.000000     28.000000   \n",
       "50%        2.000000      1.000000      2.000000   140000.000000     34.000000   \n",
       "75%        2.000000      1.000000      2.000000   240000.000000     41.000000   \n",
       "max        3.000000      1.000000      6.000000  1000000.000000     79.000000   \n",
       "\n",
       "              pay_1         pay_2         pay_3         pay_4         pay_5  \\\n",
       "count  25247.000000  25247.000000  25247.000000  25247.000000  25247.000000   \n",
       "mean      -0.042857     -0.159544     -0.190359     -0.241415     -0.282568   \n",
       "std        1.099315      1.173990      1.172636      1.146753      1.114213   \n",
       "min       -2.000000     -2.000000     -2.000000     -2.000000     -2.000000   \n",
       "25%       -1.000000     -1.000000     -1.000000     -1.000000     -1.000000   \n",
       "50%        0.000000      0.000000      0.000000      0.000000      0.000000   \n",
       "75%        0.000000      0.000000      0.000000      0.000000      0.000000   \n",
       "max        8.000000      8.000000      8.000000      7.000000      7.000000   \n",
       "\n",
       "       ...      Bill_amt6       pay_amt1      pay_amt2       pay_amt3  \\\n",
       "count  ...   25247.000000   25247.000000  2.524700e+04   25247.000000   \n",
       "mean   ...   38806.221029    5718.624966  6.047352e+03    5288.910651   \n",
       "std    ...   59182.792531   16806.842125  2.400962e+04   17851.879609   \n",
       "min    ...       0.000000       0.000000  0.000000e+00       0.000000   \n",
       "25%    ...    1241.710000     999.985000  9.219100e+02     399.990000   \n",
       "50%    ...   17102.580000    2145.020000  2.026830e+03    1844.300000   \n",
       "75%    ...   49245.195000    5031.150000  5.000190e+03    4600.640000   \n",
       "max    ...  961663.620000  873551.980000  1.684259e+06  896040.150000   \n",
       "\n",
       "            pay_amt4       pay_amt5       pay_amt6   AVG_Bill_amt  \\\n",
       "count   25247.000000   25247.000000   25247.000000   25247.000000   \n",
       "mean     4865.960834    4906.766828    5270.499287   44859.647485   \n",
       "std     15979.116544   15860.726852   17960.816915   62819.226119   \n",
       "min         0.000000       0.000000       0.000000  -56043.170000   \n",
       "25%       300.150000     262.365000     130.070000    4858.670000   \n",
       "50%      1500.100000    1513.790000    1500.040000   21102.830000   \n",
       "75%      4014.990000    4099.890000    4018.780000   57136.580000   \n",
       "max    621000.080000  426529.180000  528666.150000  877313.830000   \n",
       "\n",
       "       PAY_TO_BILL_ratio  next_month_default  \n",
       "count       25247.000000        25247.000000  \n",
       "mean            0.362962            0.190399  \n",
       "std             5.047206            0.392624  \n",
       "min          -546.930000            0.000000  \n",
       "25%             0.040000            0.000000  \n",
       "50%             0.090000            0.000000  \n",
       "75%             0.590000            0.000000  \n",
       "max           205.380000            1.000000  \n",
       "\n",
       "[8 rows x 26 columns]"
      ]
     },
     "execution_count": 10,
     "metadata": {},
     "output_type": "execute_result"
    }
   ],
   "source": [
    "df.describe()"
   ]
  },
  {
   "cell_type": "code",
   "execution_count": 11,
   "id": "eefdb8d8-db78-41d6-84a7-8e7f27043365",
   "metadata": {},
   "outputs": [],
   "source": [
    "df.fillna({\"age\":34},inplace=True)"
   ]
  },
  {
   "cell_type": "code",
   "execution_count": 12,
   "id": "275c7a83-57a3-4ce5-9963-52a953197c78",
   "metadata": {},
   "outputs": [
    {
     "data": {
      "text/plain": [
       "np.int64(0)"
      ]
     },
     "execution_count": 12,
     "metadata": {},
     "output_type": "execute_result"
    }
   ],
   "source": [
    "df[\"age\"].isnull().sum(axis=0)"
   ]
  },
  {
   "cell_type": "markdown",
   "id": "bfb878e2-f8b1-4562-9586-78fb6cccdd4e",
   "metadata": {},
   "source": [
    "# EDA"
   ]
  },
  {
   "cell_type": "markdown",
   "id": "1a2a833f-3bc9-4d8d-8d27-0958794febea",
   "metadata": {},
   "source": [
    "## Marriage"
   ]
  },
  {
   "cell_type": "code",
   "execution_count": 13,
   "id": "fab2bac9-ee19-41fc-a818-6aaebba20096",
   "metadata": {},
   "outputs": [
    {
     "data": {
      "text/plain": [
       "marriage\n",
       "2    13441\n",
       "1    11480\n",
       "3      273\n",
       "0       53\n",
       "Name: count, dtype: int64"
      ]
     },
     "execution_count": 13,
     "metadata": {},
     "output_type": "execute_result"
    }
   ],
   "source": [
    "df['marriage'].value_counts()"
   ]
  },
  {
   "cell_type": "code",
   "execution_count": 14,
   "id": "e90a6c8c-6a78-463f-a9fc-c14b576e9ffa",
   "metadata": {},
   "outputs": [],
   "source": [
    "df.loc[:,'marriage']=df.loc[:,'marriage'].replace(0,3)"
   ]
  },
  {
   "cell_type": "code",
   "execution_count": 15,
   "id": "d54fce1d-6447-4dfd-95db-01fd34fc7a66",
   "metadata": {},
   "outputs": [
    {
     "data": {
      "text/plain": [
       "marriage\n",
       "2    13441\n",
       "1    11480\n",
       "3      326\n",
       "Name: count, dtype: int64"
      ]
     },
     "execution_count": 15,
     "metadata": {},
     "output_type": "execute_result"
    }
   ],
   "source": [
    "df['marriage'].value_counts()"
   ]
  },
  {
   "cell_type": "code",
   "execution_count": 16,
   "id": "80d27e7a-be50-4c81-a6c2-3128661dc5f4",
   "metadata": {},
   "outputs": [
    {
     "data": {
      "image/png": "[encoded data removed]",
      "text/plain": [
       "<Figure size 1000x1000 with 1 Axes>"
      ]
     },
     "metadata": {},
     "output_type": "display_data"
    }
   ],
   "source": [
    "plt.figure(figsize = (10,10))\n",
    "palette_color = sns.color_palette('Set2')\n",
    "keys=['Married','Single','Others']\n",
    "plt.pie(df[\"marriage\"].value_counts(), labels=keys, colors=palette_color, autopct='%.0f%%')\n",
    "plt.legend()\n",
    "plt.show()"
   ]
  },
  {
   "cell_type": "code",
   "execution_count": 17,
   "id": "e669bb5e-c5b0-4b21-a615-df2b26649d84",
   "metadata": {},
   "outputs": [
    {
     "data": {
      "text/plain": [
       "marriage  next_month_default\n",
       "1         0                     0.796254\n",
       "          1                     0.203746\n",
       "2         0                     0.821144\n",
       "          1                     0.178856\n",
       "3         0                     0.803681\n",
       "          1                     0.196319\n",
       "Name: proportion, dtype: float64"
      ]
     },
     "execution_count": 17,
     "metadata": {},
     "output_type": "execute_result"
    }
   ],
   "source": [
    "df['next_month_default'].groupby(df['marriage']).value_counts(normalize=True)"
   ]
  },
  {
   "cell_type": "code",
   "execution_count": 18,
   "id": "d25f2bee-768f-4bfd-a32c-7c9fd7e92f6c",
   "metadata": {},
   "outputs": [
    {
     "data": {
      "image/png": "[encoded data removed]",
      "text/plain": [
       "<Figure size 1000x600 with 1 Axes>"
      ]
     },
     "metadata": {},
     "output_type": "display_data"
    }
   ],
   "source": [
    "plt.figure(figsize=(10,6))\n",
    "\n",
    "ax = sns.countplot(data = df, x = 'marriage', hue=\"next_month_default\", palette = 'Set2')\n",
    "\n",
    "plt.xlabel(\"Marital Status\", fontsize= 16,weight='bold')\n",
    "plt.ylabel(\"Count\", fontsize= 12)\n",
    "plt.ylim(0,12000)\n",
    "plt.xticks(ticks=[0,1,2],labels=['Married','Single','Others'])\n",
    "\n",
    "for p in ax.patches:\n",
    "    if p.get_height() >0:\n",
    "        ax.annotate('{:.0f}'.format(p.get_height()), (p.get_x()+0.15, p.get_height()+500))\n",
    "plt.show()"
   ]
  },
  {
   "cell_type": "markdown",
   "id": "2f9d8aff-28fa-43bf-a876-b3e96c3f8fbb",
   "metadata": {},
   "source": [
    "SEX"
   ]
  },
  {
   "cell_type": "code",
   "execution_count": 19,
   "id": "5b7f3d08-303b-4a03-a098-6b49a9ecb9fe",
   "metadata": {},
   "outputs": [
    {
     "data": {
      "text/plain": [
       "sex\n",
       "1    0.604111\n",
       "0    0.395889\n",
       "Name: proportion, dtype: float64"
      ]
     },
     "execution_count": 19,
     "metadata": {},
     "output_type": "execute_result"
    }
   ],
   "source": [
    "df[\"sex\"].value_counts(normalize=True)"
   ]
  },
  {
   "cell_type": "code",
   "execution_count": 20,
   "id": "c7109e5f-1c5b-4fba-b7cb-731dc27362c6",
   "metadata": {},
   "outputs": [
    {
     "data": {
      "image/png": "[encoded data removed]",
      "text/plain": [
       "<Figure size 800x800 with 1 Axes>"
      ]
     },
     "metadata": {},
     "output_type": "display_data"
    }
   ],
   "source": [
    "plt.figure(figsize = (8,8))\n",
    "gen=['Male','Female']\n",
    "palette_color = sns.color_palette('Set2')\n",
    "plt.pie(df[\"sex\"].value_counts(), labels=gen, colors=palette_color, autopct='%.0f%%')\n",
    "plt.legend()\n",
    "plt.show()"
   ]
  },
  {
   "cell_type": "code",
   "execution_count": 21,
   "id": "def4f32c-1023-4931-b07b-31b8ce46a6b4",
   "metadata": {},
   "outputs": [
    {
     "data": {
      "text/plain": [
       "sex  next_month_default\n",
       "0    0                     0.791396\n",
       "     1                     0.208604\n",
       "1    0                     0.821532\n",
       "     1                     0.178468\n",
       "Name: proportion, dtype: float64"
      ]
     },
     "execution_count": 21,
     "metadata": {},
     "output_type": "execute_result"
    }
   ],
   "source": [
    "df['next_month_default'].groupby(df['sex']).value_counts(normalize=True)"
   ]
  },
  {
   "cell_type": "code",
   "execution_count": 22,
   "id": "ec0b4ff3-ad98-4ef9-9a14-ec5d15e2390a",
   "metadata": {},
   "outputs": [
    {
     "data": {
      "image/png": "[encoded data removed]",
      "text/plain": [
       "<Figure size 1000x600 with 1 Axes>"
      ]
     },
     "metadata": {},
     "output_type": "display_data"
    }
   ],
   "source": [
    "\n",
    "plt.figure(figsize=(10,6))\n",
    "ax = sns.countplot(x='sex', data=df, hue='next_month_default', palette='Set2')\n",
    "plt.xticks(ticks=[1,0], labels=['Male','Female'])\n",
    "plt.ylim(0,15000)\n",
    "for i in ax.patches:\n",
    "    if i.get_height() >0:\n",
    "        ax.annotate('{:.0f}'.format(i.get_height()), (i.get_x()+0.15, i.get_height()+500))\n",
    "plt.show()"
   ]
  },
  {
   "cell_type": "markdown",
   "id": "78761ef9-f330-498a-ada5-37cf8e8c83e6",
   "metadata": {},
   "source": [
    "## Education"
   ]
  },
  {
   "cell_type": "code",
   "execution_count": 23,
   "id": "10e27bd4-abdc-4d4c-8317-4211dfd614c1",
   "metadata": {},
   "outputs": [
    {
     "data": {
      "text/plain": [
       "education\n",
       "2    11717\n",
       "1     8988\n",
       "3     4115\n",
       "5      253\n",
       "4      116\n",
       "6       44\n",
       "0       14\n",
       "Name: count, dtype: int64"
      ]
     },
     "execution_count": 23,
     "metadata": {},
     "output_type": "execute_result"
    }
   ],
   "source": [
    "df['education'].value_counts()"
   ]
  },
  {
   "cell_type": "code",
   "execution_count": 24,
   "id": "29ee2e2d-38d3-49b5-ab44-2daa88ee6836",
   "metadata": {},
   "outputs": [],
   "source": [
    "df.loc[:,'education']=df.loc[:,'education'].replace(0,4)\n",
    "df.loc[:,'education']=df.loc[:,'education'].replace(5,4)\n",
    "df.loc[:,'education']=df.loc[:,'education'].replace(6,4)"
   ]
  },
  {
   "cell_type": "code",
   "execution_count": 25,
   "id": "fc1dfa1b-c4be-4890-b94a-60d19e4e231e",
   "metadata": {},
   "outputs": [
    {
     "data": {
      "text/plain": [
       "education\n",
       "2    11717\n",
       "1     8988\n",
       "3     4115\n",
       "4      427\n",
       "Name: count, dtype: int64"
      ]
     },
     "execution_count": 25,
     "metadata": {},
     "output_type": "execute_result"
    }
   ],
   "source": [
    "df['education'].value_counts()"
   ]
  },
  {
   "cell_type": "code",
   "execution_count": 26,
   "id": "7b8a0ada-4e66-4bcc-85a7-7df49b6b2f49",
   "metadata": {},
   "outputs": [
    {
     "data": {
      "image/png": "[encoded data removed]",
      "text/plain": [
       "<Figure size 1200x1200 with 1 Axes>"
      ]
     },
     "metadata": {},
     "output_type": "display_data"
    }
   ],
   "source": [
    "plt.figure(figsize = (12,12))\n",
    "palette_color = sns.color_palette('Set3')\n",
    "keys=['Gradute School','University','High School','Others']\n",
    "plt.pie(df[\"education\"].value_counts(), labels=keys, colors=palette_color, autopct='%.0f%%')\n",
    "plt.legend(loc=1)\n",
    "plt.show()"
   ]
  },
  {
   "cell_type": "code",
   "execution_count": 27,
   "id": "f57ef957-f2f4-4038-a2d5-dffd1d3f7256",
   "metadata": {},
   "outputs": [
    {
     "data": {
      "text/plain": [
       "education  next_month_default\n",
       "1          0                     0.838229\n",
       "           1                     0.161771\n",
       "2          0                     0.790902\n",
       "           1                     0.209098\n",
       "3          0                     0.786877\n",
       "           1                     0.213123\n",
       "4          0                     0.939110\n",
       "           1                     0.060890\n",
       "Name: proportion, dtype: float64"
      ]
     },
     "execution_count": 27,
     "metadata": {},
     "output_type": "execute_result"
    }
   ],
   "source": [
    "df['next_month_default'].groupby(df['education']).value_counts(normalize=True)"
   ]
  },
  {
   "cell_type": "code",
   "execution_count": 28,
   "id": "d3e92ab4-ba5e-469c-bd66-5f4a1a828a3d",
   "metadata": {},
   "outputs": [
    {
     "data": {
      "image/png": "[encoded data removed]",
      "text/plain": [
       "<Figure size 1200x600 with 1 Axes>"
      ]
     },
     "metadata": {},
     "output_type": "display_data"
    }
   ],
   "source": [
    "plt.figure(figsize=(12,6))\n",
    "ax= sns.countplot(x=\"education\",data=df, hue='next_month_default' , palette='Set1')\n",
    "plt.xticks(ticks=[0,1,2,3],labels=['Gradute School','University','High School','Others'])\n",
    "plt.ylabel('Count')\n",
    "plt.ylim(0,10000)\n",
    "for i in ax.patches:\n",
    "    if i.get_height() >0:\n",
    "        ax.annotate('{:.0f}'.format(i.get_height()),(i.get_x()+0.15,i.get_height()+500))\n",
    "plt.show()"
   ]
  },
  {
   "cell_type": "markdown",
   "id": "02bb79f6-ae8d-4e97-9f86-a791842038c5",
   "metadata": {},
   "source": [
    "## AGE"
   ]
  },
  {
   "cell_type": "code",
   "execution_count": 29,
   "id": "ad39392e-f023-4620-b7fa-bbbe9f38a2a1",
   "metadata": {},
   "outputs": [
    {
     "data": {
      "text/plain": [
       "count    25247.000000\n",
       "mean        35.431022\n",
       "std          9.152635\n",
       "min         21.000000\n",
       "25%         28.000000\n",
       "50%         34.000000\n",
       "75%         41.000000\n",
       "max         79.000000\n",
       "Name: age, dtype: float64"
      ]
     },
     "execution_count": 29,
     "metadata": {},
     "output_type": "execute_result"
    }
   ],
   "source": [
    "df[\"age\"].describe()"
   ]
  },
  {
   "cell_type": "code",
   "execution_count": 30,
   "id": "30f05d6a-7334-44ea-885f-b76ef36641d5",
   "metadata": {},
   "outputs": [],
   "source": [
    "interval = pd.cut(df['age'],[20, 30, 40, 50, 60, 70, 80])"
   ]
  },
  {
   "cell_type": "code",
   "execution_count": 31,
   "id": "541efd92-21aa-4b35-8072-cf0857aa1a01",
   "metadata": {},
   "outputs": [
    {
     "data": {
      "text/plain": [
       "age\n",
       "(20, 30]    9234\n",
       "(30, 40]    9172\n",
       "(40, 50]    4962\n",
       "(50, 60]    1662\n",
       "(60, 70]     206\n",
       "(70, 80]      11\n",
       "Name: count, dtype: int64"
      ]
     },
     "execution_count": 31,
     "metadata": {},
     "output_type": "execute_result"
    }
   ],
   "source": [
    "interval.value_counts()"
   ]
  },
  {
   "cell_type": "code",
   "execution_count": 32,
   "id": "4a42ae5a-01bd-40be-a4d9-9f8de44d6c5b",
   "metadata": {},
   "outputs": [
    {
     "data": {
      "text/plain": [
       "age       next_month_default\n",
       "(20, 30]  0                     0.805935\n",
       "          1                     0.194065\n",
       "(30, 40]  0                     0.827082\n",
       "          1                     0.172918\n",
       "(40, 50]  0                     0.799073\n",
       "          1                     0.200927\n",
       "(50, 60]  0                     0.772563\n",
       "          1                     0.227437\n",
       "(60, 70]  0                     0.757282\n",
       "          1                     0.242718\n",
       "(70, 80]  0                     0.636364\n",
       "          1                     0.363636\n",
       "Name: proportion, dtype: float64"
      ]
     },
     "execution_count": 32,
     "metadata": {},
     "output_type": "execute_result"
    }
   ],
   "source": [
    "df['next_month_default'].groupby(interval,observed=True).value_counts(normalize=True)"
   ]
  },
  {
   "cell_type": "code",
   "execution_count": 33,
   "id": "907b5a8d-09d9-4ff3-8c60-ac66ff6082de",
   "metadata": {},
   "outputs": [
    {
     "data": {
      "image/png": "[encoded data removed]",
      "text/plain": [
       "<Figure size 1400x600 with 1 Axes>"
      ]
     },
     "metadata": {},
     "output_type": "display_data"
    }
   ],
   "source": [
    "plt.figure(figsize=(14,6))\n",
    "\n",
    "ax = sns.countplot(x = interval, data = df, hue = \"next_month_default\" )\n",
    "plt.xticks(ticks=[0,1,2,3,4,5],labels=['20-30','30-40','40-50','50-60', '60-70', '70-80'])\n",
    "plt.xlabel(\"Age Group\", fontsize= 12)\n",
    "plt.ylabel(\"count\", fontsize= 12)\n",
    "plt.ylim(0,10000)\n",
    "for i in ax.patches:\n",
    "    if i.get_height() >0:\n",
    "        ax.annotate('{:.0f}'.format(i.get_height()), (i.get_x()+0.15, i.get_height()+500))\n",
    "plt.show()"
   ]
  },
  {
   "cell_type": "code",
   "execution_count": null,
   "id": "e9abc1b1-0d78-454d-ac28-93b877a89dd1",
   "metadata": {},
   "outputs": [],
   "source": []
  }
 ],
 "metadata": {
  "kernelspec": {
   "display_name": "Python 3 (ipykernel)",
   "language": "python",
   "name": "python3"
  },
  "language_info": {
   "codemirror_mode": {
    "name": "ipython",
    "version": 3
   },
   "file_extension": ".py",
   "mimetype": "text/x-python",
   "name": "python",
   "nbconvert_exporter": "python",
   "pygments_lexer": "ipython3",
   "version": "3.13.3"
  }
 },
 "nbformat": 4,
 "nbformat_minor": 5
}
